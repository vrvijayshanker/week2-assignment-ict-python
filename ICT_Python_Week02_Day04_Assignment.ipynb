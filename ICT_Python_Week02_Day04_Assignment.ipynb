{
  "nbformat": 4,
  "nbformat_minor": 0,
  "metadata": {
    "colab": {
      "provenance": [],
      "authorship_tag": "ABX9TyMhX4ojimuvGZBG+yXG5+XQ",
      "include_colab_link": true
    },
    "kernelspec": {
      "name": "python3",
      "display_name": "Python 3"
    },
    "language_info": {
      "name": "python"
    }
  },
  "cells": [
    {
      "cell_type": "markdown",
      "metadata": {
        "id": "view-in-github",
        "colab_type": "text"
      },
      "source": [
        "<a href=\"https://colab.research.google.com/github/vrvijayshanker/week2-assignment-ict-python/blob/main/ICT_Python_Week02_Day04_Assignment.ipynb\" target=\"_parent\"><img src=\"https://colab.research.google.com/assets/colab-badge.svg\" alt=\"Open In Colab\"/></a>"
      ]
    },
    {
      "cell_type": "markdown",
      "source": [
        "1. Write an interactive Python Program to implement following “Guess Game”\n",
        "\n",
        "i. Think of a number between 1 and 10 and store it in a variable called\n",
        "\"secretNumber\".\n",
        "\n",
        "ii. Ask the user to enter a number between 1 and 10 and store it in a variable called \"guess\".\n",
        "\n",
        "iii. Use control statements (if-else) to check if the guess is correct, higher, or lower than the secret number.\n",
        "\n",
        "iv. Display appropriate messages to the user based on their guess:\n",
        "\n",
        "• If the guess is correct, display \"Congratulations! You guessed the number\n",
        "correctly!\"\n",
        "\n",
        "• If the guess is higher than the secret number, display \"Too high! Try\n",
        "again.\"\n",
        "\n",
        "• If the guess is lower than the secret number, display \"Too low! Try again.\"\n",
        "\n",
        "v. Allow the user to keep guessing until they guess the correct number."
      ],
      "metadata": {
        "id": "ek8K4xlRcv88"
      }
    },
    {
      "cell_type": "code",
      "execution_count": null,
      "metadata": {
        "colab": {
          "base_uri": "https://localhost:8080/"
        },
        "id": "KERxHmuDclv0",
        "outputId": "20c53b2b-cc0b-4f8c-aa49-c6670dc86687"
      },
      "outputs": [
        {
          "output_type": "stream",
          "name": "stdout",
          "text": [
            "**********\n",
            "Guess Game\n",
            "**********\n",
            "\n",
            "I am going to think of a number betweem 1 and 10.\n",
            "\n",
            "Now, you guess a number between 1 and 10: 4\n",
            "Too low, guess again: 6\n",
            "Too low, guess again: 8\n",
            "Congratulations! You guessed the number correctly!\n",
            "Number of tries: 3\n"
          ]
        }
      ],
      "source": [
        "import random\n",
        "\n",
        "print('**********\\nGuess Game\\n**********\\n')\n",
        "print('I am going to think of a number betweem 1 and 10.\\n')\n",
        "\n",
        "# Storing a random number between 1 and 10 in variable\n",
        "secretNumber = random.randint(1,10)\n",
        "\n",
        "# To count the number of tries\n",
        "count = 0\n",
        "\n",
        "guess = int(input('Now, you guess a number between 1 and 10: '))\n",
        "\n",
        "while True:\n",
        "  count += 1\n",
        "  if guess < secretNumber:\n",
        "    guess = int(input('Too low, guess again: '))\n",
        "  elif guess > secretNumber:\n",
        "    guess = int(input('Too high, guess again: '))\n",
        "  else:\n",
        "    print('Congratulations! You guessed the number correctly!')\n",
        "    break\n",
        "print('Number of tries:', count)\n"
      ]
    },
    {
      "cell_type": "markdown",
      "source": [
        "2. Write a program to find and print the Factorial of this number. The Factorial of a positive integer N refers to the product of all number in the range from 1 to N."
      ],
      "metadata": {
        "id": "RQPO8Czxg6Vy"
      }
    },
    {
      "cell_type": "code",
      "source": [
        "N = int(input('Enter a positive integer: '))\n",
        "fact = 1\n",
        "\n",
        "for i in range(1, N+1):\n",
        "  fact = fact*i\n",
        "\n",
        "print(f'Factorial of {N} is {fact}')"
      ],
      "metadata": {
        "colab": {
          "base_uri": "https://localhost:8080/"
        },
        "id": "2XSsMbXYyWk-",
        "outputId": "0fddf16d-8b54-4936-ace0-925f42501b55"
      },
      "execution_count": 7,
      "outputs": [
        {
          "output_type": "stream",
          "name": "stdout",
          "text": [
            "Enter a positive integer: 10\n",
            "Factorial of 10 is 3628800\n"
          ]
        }
      ]
    },
    {
      "cell_type": "markdown",
      "source": [
        "• Roy wants to change his profile picture on Facebook. Now Facebook has some\n",
        "restriction over the dimension of picture that we can upload.\n",
        "Minimum dimension of the picture can be L x L, where L is the length of the side\n",
        "of square. Now Roy has N photos of various dimensions.\n",
        "\n",
        "Dimension of a photo is denoted as W x H\n",
        "where W - width of the photo and H - Height of the photo\n",
        "\n",
        "• When any photo is uploaded following events may occur:\n",
        "\n",
        "[1] If any of the width or height is less than L, user is prompted to upload another one. Print \"UPLOAD ANOTHER\" in this case.\n",
        "\n",
        "[2] If width and height, both are large enough and\n",
        "\n",
        "(a) if the photo is already square then it is accepted. Print \"ACCEPTED\" in this\n",
        "case.\n",
        "\n",
        "(b) else user is prompted to crop it. Print \"CROP IT\" in this case.\n",
        "Given L, N, W and H as input, write a program to print appropriate text as output."
      ],
      "metadata": {
        "id": "44PKmTZvyW9y"
      }
    },
    {
      "cell_type": "code",
      "source": [
        "import random\n",
        "\n",
        "MIN_DIMENSION_L = 300\n",
        "photos = []\n",
        "\n",
        "N = int(input('Enter a number: '))\n",
        "print(f'\\nRoy has {N} photos\\n')\n",
        "print(f'Minimum dimension of the photo to upload: {MIN_DIMENSION_L} x {MIN_DIMENSION_L}\\n')\n",
        "\n",
        "for i in range(0, N):\n",
        "  fact = fact * (i+1)\n",
        "  width_w = random.randint(100,500)\n",
        "  height_h = random.randint(100,500)\n",
        "  photos.append([width_w, height_h])\n",
        "\n",
        "  if width_w < MIN_DIMENSION_L or height_h < MIN_DIMENSION_L:\n",
        "    print('Upload Another')\n",
        "  elif width_w >= MIN_DIMENSION_L and height_h >= MIN_DIMENSION_L:\n",
        "    if width_w == height_h:\n",
        "      print('Accepted')\n",
        "    else:\n",
        "      print('Crop it')\n",
        "\n",
        "print(photos)\n"
      ],
      "metadata": {
        "colab": {
          "base_uri": "https://localhost:8080/"
        },
        "id": "7lW0R2ZkiCni",
        "outputId": "0a0fdf8e-c7a8-4862-9f85-018e03a91198"
      },
      "execution_count": 8,
      "outputs": [
        {
          "output_type": "stream",
          "name": "stdout",
          "text": [
            "Enter a number: 10\n",
            "\n",
            "Roy has 10 photos\n",
            "\n",
            "Minimum dimension of the photo to upload: 300 x 300\n",
            "\n",
            "Crop it\n",
            "Crop it\n",
            "Crop it\n",
            "Upload Another\n",
            "Upload Another\n",
            "Upload Another\n",
            "Upload Another\n",
            "Upload Another\n",
            "Upload Another\n",
            "Upload Another\n",
            "[[313, 375], [431, 359], [408, 355], [465, 250], [231, 393], [151, 234], [191, 200], [403, 260], [119, 409], [458, 165]]\n"
          ]
        }
      ]
    }
  ]
}